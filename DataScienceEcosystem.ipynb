{
 "cells": [
  {
   "cell_type": "markdown",
   "id": "e8e2d0ae-2511-4327-98e9-b0351e73df17",
   "metadata": {
    "tags": []
   },
   "source": [
    "# Data Science Tools and Ecosystem"
   ]
  },
  {
   "cell_type": "markdown",
   "id": "9abd33aa-9ca2-4cb3-98a4-04170687bf06",
   "metadata": {},
   "source": [
    "In this notebook, Data Science Tools and Ecosystem are summarized."
   ]
  },
  {
   "cell_type": "markdown",
   "id": "4ceebb3e-7466-46ad-b09f-71fedc4453dc",
   "metadata": {
    "tags": []
   },
   "source": [
    "Some of the popular languages that Data Scientists use are:\n",
    "1. Java\n",
    "2. Python\n",
    "3. Julia\n",
    "4. C#"
   ]
  },
  {
   "cell_type": "code",
   "execution_count": null,
   "id": "b08d38f6-5b4e-47a6-9247-6871227e476b",
   "metadata": {},
   "outputs": [],
   "source": [
    "Some of the commonly used libraries used by Data Scientists include:\n",
    "1. pandas\n",
    "2. numpy\n",
    "3. spark"
   ]
  },
  {
   "cell_type": "code",
   "execution_count": 6,
   "id": "a37aef46-087d-462c-b8a3-958562b72573",
   "metadata": {
    "tags": []
   },
   "outputs": [
    {
     "ename": "SyntaxError",
     "evalue": "invalid syntax (2243806493.py, line 1)",
     "output_type": "error",
     "traceback": [
      "\u001b[0;36m  File \u001b[0;32m\"/tmp/ipykernel_343/2243806493.py\"\u001b[0;36m, line \u001b[0;32m1\u001b[0m\n\u001b[0;31m    |Data Science Tools|\u001b[0m\n\u001b[0m    ^\u001b[0m\n\u001b[0;31mSyntaxError\u001b[0m\u001b[0;31m:\u001b[0m invalid syntax\n"
     ]
    }
   ],
   "source": [
    "|Data Science Tools|\n",    
    "|---|\n",
    "|Jupyter Notebooks |\n",
    "|Anaconda          |\n",
    "|JupyterLab        |"
   ]
  }
 ],
 "metadata": {
  "kernelspec": {
   "display_name": "Python",
   "language": "python",
   "name": "conda-env-python-py"
  },
  "language_info": {
   "codemirror_mode": {
    "name": "ipython",
    "version": 3
   },
   "file_extension": ".py",
   "mimetype": "text/x-python",
   "name": "python",
   "nbconvert_exporter": "python",
   "pygments_lexer": "ipython3",
   "version": "3.7.12"
  }
 },
 "nbformat": 4,
 "nbformat_minor": 5
}
